{
 "cells": [
  {
   "cell_type": "markdown",
   "id": "cbdd274b-43b6-4062-9e45-dd6411652271",
   "metadata": {},
   "source": [
    "## **Importing Pandas Library**"
   ]
  },
  {
   "cell_type": "code",
   "execution_count": 1,
   "id": "36f1cbab-6fd9-4b9b-bcaa-b6da6842529a",
   "metadata": {},
   "outputs": [
    {
     "name": "stdout",
     "output_type": "stream",
     "text": [
      "Requirement already satisfied: pandas in /home/ec2-user/anaconda3/envs/python3/lib/python3.10/site-packages (1.5.3)\n",
      "Requirement already satisfied: python-dateutil>=2.8.1 in /home/ec2-user/anaconda3/envs/python3/lib/python3.10/site-packages (from pandas) (2.9.0.post0)\n",
      "Requirement already satisfied: pytz>=2020.1 in /home/ec2-user/anaconda3/envs/python3/lib/python3.10/site-packages (from pandas) (2025.2)\n",
      "Requirement already satisfied: numpy>=1.21.0 in /home/ec2-user/anaconda3/envs/python3/lib/python3.10/site-packages (from pandas) (1.26.4)\n",
      "Requirement already satisfied: six>=1.5 in /home/ec2-user/anaconda3/envs/python3/lib/python3.10/site-packages (from python-dateutil>=2.8.1->pandas) (1.17.0)\n"
     ]
    }
   ],
   "source": [
    "!pip install pandas"
   ]
  },
  {
   "cell_type": "markdown",
   "id": "293175f2-f828-4e92-9975-4f285edd04d9",
   "metadata": {},
   "source": [
    "## 📂 2. Load and Explore Sample JSON from S3\n",
    "We load a raw sample JSON slice from the Spotify dataset on S3 to inspect the structure."
   ]
  },
  {
   "cell_type": "code",
   "execution_count": 2,
   "id": "eb5fa6d0-1e0b-42f4-8c81-8231f31c7ea1",
   "metadata": {},
   "outputs": [],
   "source": [
    "import boto3\n",
    "import os\n",
    "\n",
    "s3 = boto3.client('s3')\n",
    "bucket_name = 'spotify-mpd-pipeline-team4'\n",
    "prefix = 'raw/'  # folder inside the bucket\n",
    "\n",
    "# List files\n",
    "objects = s3.list_objects_v2(Bucket=bucket_name, Prefix=prefix)\n",
    "files = [obj['Key'] for obj in objects.get('Contents', []) if obj['Key'].endswith('.json')]"
   ]
  },
  {
   "cell_type": "code",
   "execution_count": 3,
   "id": "898b43ea-a74d-4344-8340-c3768287b048",
   "metadata": {
    "scrolled": true
   },
   "outputs": [
    {
     "data": {
      "text/html": [
       "<div>\n",
       "<style scoped>\n",
       "    .dataframe tbody tr th:only-of-type {\n",
       "        vertical-align: middle;\n",
       "    }\n",
       "\n",
       "    .dataframe tbody tr th {\n",
       "        vertical-align: top;\n",
       "    }\n",
       "\n",
       "    .dataframe thead th {\n",
       "        text-align: right;\n",
       "    }\n",
       "</style>\n",
       "<table border=\"1\" class=\"dataframe\">\n",
       "  <thead>\n",
       "    <tr style=\"text-align: right;\">\n",
       "      <th></th>\n",
       "      <th>input</th>\n",
       "      <th>target</th>\n",
       "    </tr>\n",
       "  </thead>\n",
       "  <tbody>\n",
       "    <tr>\n",
       "      <th>0</th>\n",
       "      <td>[spotify:track:4r0GVpjSsKSR1biv4fOoa5]</td>\n",
       "      <td>spotify:track:3L6S3Px2rdU0HprDo2Famq</td>\n",
       "    </tr>\n",
       "    <tr>\n",
       "      <th>1</th>\n",
       "      <td>[spotify:track:4r0GVpjSsKSR1biv4fOoa5, spotify...</td>\n",
       "      <td>spotify:track:7wwifjNAb172PtDpKK3CoR</td>\n",
       "    </tr>\n",
       "    <tr>\n",
       "      <th>2</th>\n",
       "      <td>[spotify:track:4r0GVpjSsKSR1biv4fOoa5, spotify...</td>\n",
       "      <td>spotify:track:0uMUvbkTdjBNZ5UuHZ5PIj</td>\n",
       "    </tr>\n",
       "    <tr>\n",
       "      <th>3</th>\n",
       "      <td>[spotify:track:4r0GVpjSsKSR1biv4fOoa5, spotify...</td>\n",
       "      <td>spotify:track:1VWRcdvlTztNh2FHwKujUG</td>\n",
       "    </tr>\n",
       "    <tr>\n",
       "      <th>4</th>\n",
       "      <td>[spotify:track:4r0GVpjSsKSR1biv4fOoa5, spotify...</td>\n",
       "      <td>spotify:track:07bmMNNyYHtLCQ2bnvBKnf</td>\n",
       "    </tr>\n",
       "  </tbody>\n",
       "</table>\n",
       "</div>"
      ],
      "text/plain": [
       "                                               input  \\\n",
       "0             [spotify:track:4r0GVpjSsKSR1biv4fOoa5]   \n",
       "1  [spotify:track:4r0GVpjSsKSR1biv4fOoa5, spotify...   \n",
       "2  [spotify:track:4r0GVpjSsKSR1biv4fOoa5, spotify...   \n",
       "3  [spotify:track:4r0GVpjSsKSR1biv4fOoa5, spotify...   \n",
       "4  [spotify:track:4r0GVpjSsKSR1biv4fOoa5, spotify...   \n",
       "\n",
       "                                 target  \n",
       "0  spotify:track:3L6S3Px2rdU0HprDo2Famq  \n",
       "1  spotify:track:7wwifjNAb172PtDpKK3CoR  \n",
       "2  spotify:track:0uMUvbkTdjBNZ5UuHZ5PIj  \n",
       "3  spotify:track:1VWRcdvlTztNh2FHwKujUG  \n",
       "4  spotify:track:07bmMNNyYHtLCQ2bnvBKnf  "
      ]
     },
     "execution_count": 3,
     "metadata": {},
     "output_type": "execute_result"
    }
   ],
   "source": [
    "import json\n",
    "import pandas as pd\n",
    "\n",
    "samples = []\n",
    "\n",
    "for file_key in files:\n",
    "    obj = s3.get_object(Bucket=bucket_name, Key=file_key)\n",
    "    data = json.load(obj['Body'])\n",
    "\n",
    "    for playlist in data['playlists']:\n",
    "        tracks = playlist['tracks']\n",
    "        uris = [track['track_uri'] for track in tracks]\n",
    "        for i in range(1, len(uris)):\n",
    "            samples.append({\n",
    "                \"input\": uris[:i],\n",
    "                \"target\": uris[i]\n",
    "            })\n",
    "\n",
    "df = pd.DataFrame(samples)\n",
    "df.head()"
   ]
  },
  {
   "cell_type": "markdown",
   "id": "5af3976a-831f-4046-84a5-fe9236b9bcf8",
   "metadata": {},
   "source": [
    "## 🔍 3. Flatten Playlist and Track Data\n",
    "We explode nested JSON playlists into a flat DataFrame for easier modeling."
   ]
  },
  {
   "cell_type": "code",
   "execution_count": 4,
   "id": "4970b4bf-1128-40e5-8fa3-0a10447fc44c",
   "metadata": {},
   "outputs": [],
   "source": [
    "chunk_size = 100000  # Adjust depending on memory\n",
    "for i, chunk in enumerate(range(0, len(df), chunk_size)):\n",
    "    df.iloc[chunk:chunk + chunk_size].to_json(f\"chunk_{i}.json\", orient=\"records\", lines=True)"
   ]
  },
  {
   "cell_type": "code",
   "execution_count": 5,
   "id": "a6e129c2-7834-4a9f-9321-f65967bb8433",
   "metadata": {},
   "outputs": [
    {
     "name": "stdout",
     "output_type": "stream",
     "text": [
      "Uploaded chunk_0.json to s3://spotify-mpd-team4-data/playlist-continuation/chunks/chunk_0.json\n",
      "Uploaded chunk_4.json to s3://spotify-mpd-team4-data/playlist-continuation/chunks/chunk_4.json\n",
      "Uploaded chunk_3.json to s3://spotify-mpd-team4-data/playlist-continuation/chunks/chunk_3.json\n",
      "Uploaded chunk_5.json to s3://spotify-mpd-team4-data/playlist-continuation/chunks/chunk_5.json\n",
      "Uploaded chunk_2.json to s3://spotify-mpd-team4-data/playlist-continuation/chunks/chunk_2.json\n",
      "Uploaded chunk_6.json to s3://spotify-mpd-team4-data/playlist-continuation/chunks/chunk_6.json\n",
      "Uploaded chunk_1.json to s3://spotify-mpd-team4-data/playlist-continuation/chunks/chunk_1.json\n"
     ]
    }
   ],
   "source": [
    "import boto3\n",
    "import os\n",
    "\n",
    "# Set your bucket and folder path in S3\n",
    "bucket_name = \"spotify-mpd-team4-data\"\n",
    "s3_prefix = \"playlist-continuation/chunks/\"\n",
    "\n",
    "# Initialize the S3 client\n",
    "s3 = boto3.client(\"s3\")\n",
    "\n",
    "# Loop through the chunk files and upload\n",
    "for file_name in os.listdir():\n",
    "    if file_name.startswith(\"chunk_\") and file_name.endswith(\".json\"):\n",
    "        s3.upload_file(file_name, bucket_name, s3_prefix + file_name)\n",
    "        print(f\"Uploaded {file_name} to s3://{bucket_name}/{s3_prefix + file_name}\")\n"
   ]
  },
  {
   "cell_type": "markdown",
   "id": "094f6d32-1ddb-44fe-90b3-de04705c2a80",
   "metadata": {},
   "source": [
    "## 🛠️ 4. Prepare Dataset for Modeling\n",
    "This step includes selecting the relevant columns (`input`, `target`) and mapping URIs to IDs."
   ]
  },
  {
   "cell_type": "code",
   "execution_count": 6,
   "id": "dd0f033b-12d5-4fb4-8d24-e0fafb00d2db",
   "metadata": {},
   "outputs": [],
   "source": [
    "import pandas as pd\n",
    "\n",
    "# Get all unique track URIs from inputs and targets\n",
    "all_tracks = set([uri for sublist in df['input'] for uri in sublist] + list(df['target']))\n",
    "track2id = {uri: idx for idx, uri in enumerate(sorted(all_tracks))}\n",
    "id2track = {idx: uri for uri, idx in track2id.items()}"
   ]
  },
  {
   "cell_type": "code",
   "execution_count": 7,
   "id": "f7cb1124-b440-447d-ba4b-fd7d177d8b52",
   "metadata": {},
   "outputs": [],
   "source": [
    "df['input_ids'] = df['input'].apply(lambda x: [track2id[uri] for uri in x])\n",
    "df['target_id'] = df['target'].map(track2id)"
   ]
  },
  {
   "cell_type": "code",
   "execution_count": 8,
   "id": "bd4d1940-f17c-43c3-81e5-ea23b0e0b9a8",
   "metadata": {},
   "outputs": [
    {
     "name": "stdout",
     "output_type": "stream",
     "text": [
      "Looking in indexes: https://pypi.org/simple, https://download.pytorch.org/whl/cpu\n",
      "Requirement already satisfied: torch in /home/ec2-user/anaconda3/envs/python3/lib/python3.10/site-packages (2.6.0+cpu)\n",
      "Requirement already satisfied: torchvision in /home/ec2-user/anaconda3/envs/python3/lib/python3.10/site-packages (0.21.0+cpu)\n",
      "Requirement already satisfied: torchaudio in /home/ec2-user/anaconda3/envs/python3/lib/python3.10/site-packages (2.6.0+cpu)\n",
      "Requirement already satisfied: filelock in /home/ec2-user/anaconda3/envs/python3/lib/python3.10/site-packages (from torch) (3.16.1)\n",
      "Requirement already satisfied: typing-extensions>=4.10.0 in /home/ec2-user/anaconda3/envs/python3/lib/python3.10/site-packages (from torch) (4.13.2)\n",
      "Requirement already satisfied: networkx in /home/ec2-user/anaconda3/envs/python3/lib/python3.10/site-packages (from torch) (3.4)\n",
      "Requirement already satisfied: jinja2 in /home/ec2-user/anaconda3/envs/python3/lib/python3.10/site-packages (from torch) (3.1.6)\n",
      "Requirement already satisfied: fsspec in /home/ec2-user/anaconda3/envs/python3/lib/python3.10/site-packages (from torch) (2025.3.2)\n",
      "Requirement already satisfied: sympy==1.13.1 in /home/ec2-user/anaconda3/envs/python3/lib/python3.10/site-packages (from torch) (1.13.1)\n",
      "Requirement already satisfied: mpmath<1.4,>=1.1.0 in /home/ec2-user/anaconda3/envs/python3/lib/python3.10/site-packages (from sympy==1.13.1->torch) (1.3.0)\n",
      "Requirement already satisfied: numpy in /home/ec2-user/anaconda3/envs/python3/lib/python3.10/site-packages (from torchvision) (1.26.4)\n",
      "Requirement already satisfied: pillow!=8.3.*,>=5.3.0 in /home/ec2-user/anaconda3/envs/python3/lib/python3.10/site-packages (from torchvision) (11.2.1)\n",
      "Requirement already satisfied: MarkupSafe>=2.0 in /home/ec2-user/anaconda3/envs/python3/lib/python3.10/site-packages (from jinja2->torch) (3.0.2)\n"
     ]
    }
   ],
   "source": [
    "!pip install torch torchvision torchaudio --extra-index-url https://download.pytorch.org/whl/cpu"
   ]
  },
  {
   "cell_type": "code",
   "execution_count": 9,
   "id": "d3b00de2-a21d-4ec6-b815-c7fbc4bad93a",
   "metadata": {},
   "outputs": [],
   "source": [
    "from sklearn.preprocessing import MultiLabelBinarizer\n",
    "\n",
    "mlb = MultiLabelBinarizer()"
   ]
  },
  {
   "cell_type": "code",
   "execution_count": 10,
   "id": "35022dcf-17b8-49d8-ada5-53dbe886fc28",
   "metadata": {},
   "outputs": [],
   "source": [
    "import torch\n",
    "track2id = {uri: idx for idx, uri in enumerate(df['target'].unique())}\n",
    "device = \"cuda\" if torch.cuda.is_available() else \"cpu\""
   ]
  },
  {
   "cell_type": "markdown",
   "id": "3c2d9fdc-ae7f-4b6a-929c-331c2984e76b",
   "metadata": {},
   "source": [
    " ## **End-to-End Playlist Continuation Model: Data Prep to Training**"
   ]
  },
  {
   "cell_type": "code",
   "execution_count": 11,
   "id": "58e063ab-09c4-4df4-9959-ecca3fe776cd",
   "metadata": {},
   "outputs": [
    {
     "name": "stdout",
     "output_type": "stream",
     "text": [
      "Epoch 1 - Train Loss: 10.5775\n",
      "Epoch 2 - Train Loss: 7.1366\n"
     ]
    }
   ],
   "source": [
    "# Step 1: Imports\n",
    "import pandas as pd\n",
    "import torch\n",
    "import torch.nn as nn\n",
    "from torch.utils.data import Dataset, DataLoader\n",
    "from sklearn.preprocessing import LabelEncoder\n",
    "from sklearn.model_selection import train_test_split\n",
    "\n",
    "# Step 2: Load & sample data\n",
    "df = pd.read_json(\"chunk_0.json\", lines=True)\n",
    "df = df[['input', 'target']].dropna()\n",
    "df = df.sample(n=3000, random_state=42)  # reduce size for quick training\n",
    "\n",
    "# Step 3: Preprocess\n",
    "track_uris = list(set([uri for sublist in df['input'] for uri in sublist] + df['target'].tolist()))\n",
    "track2id = {uri: idx+1 for idx, uri in enumerate(track_uris)}  # reserve 0 for padding\n",
    "id2track = {v: k for k, v in track2id.items()}\n",
    "\n",
    "df['input_ids'] = df['input'].apply(lambda uris: [track2id.get(uri, 0) for uri in uris])\n",
    "df['target_id'] = df['target'].map(track2id)\n",
    "\n",
    "# Step 4: Dataset class\n",
    "class PlaylistDataset(Dataset):\n",
    "    def __init__(self, X, y, max_len=10):\n",
    "        self.X = [x[-max_len:] for x in X]\n",
    "        self.X = [([0] * (max_len - len(x)) + x) for x in self.X]  # pad\n",
    "        self.y = y\n",
    "\n",
    "    def __len__(self):\n",
    "        return len(self.X)\n",
    "\n",
    "    def __getitem__(self, idx):\n",
    "        return torch.tensor(self.X[idx]), torch.tensor(self.y[idx])\n",
    "\n",
    "# Step 5: Prepare data\n",
    "X_train, X_val, y_train, y_val = train_test_split(df['input_ids'], df['target_id'], test_size=0.2, random_state=42)\n",
    "train_ds = PlaylistDataset(X_train.tolist(), y_train.tolist())\n",
    "val_ds = PlaylistDataset(X_val.tolist(), y_val.tolist())\n",
    "train_dl = DataLoader(train_ds, batch_size=32, shuffle=True)\n",
    "val_dl = DataLoader(val_ds, batch_size=32)\n",
    "\n",
    "# Step 6: Model\n",
    "class PlaylistModel(nn.Module):\n",
    "    def __init__(self, vocab_size, emb_dim=64, max_len=10):\n",
    "        super().__init__()\n",
    "        self.embedding = nn.Embedding(vocab_size + 1, emb_dim, padding_idx=0)\n",
    "        self.fc = nn.Linear(emb_dim * max_len, vocab_size + 1)\n",
    "\n",
    "    def forward(self, x):\n",
    "        x = self.embedding(x)\n",
    "        x = x.view(x.size(0), -1)\n",
    "        return self.fc(x)\n",
    "\n",
    "device = torch.device(\"cuda\" if torch.cuda.is_available() else \"cpu\")\n",
    "model = PlaylistModel(vocab_size=len(track2id)).to(device)\n",
    "\n",
    "# Step 7: Training\n",
    "optimizer = torch.optim.Adam(model.parameters(), lr=1e-3)\n",
    "criterion = nn.CrossEntropyLoss()\n",
    "\n",
    "for epoch in range(2):  # keep small\n",
    "    model.train()\n",
    "    running_loss = 0\n",
    "    for xb, yb in train_dl:\n",
    "        xb, yb = xb.to(device), yb.to(device)\n",
    "        preds = model(xb)\n",
    "        loss = criterion(preds, yb)\n",
    "\n",
    "        optimizer.zero_grad()\n",
    "        loss.backward()\n",
    "        optimizer.step()\n",
    "        running_loss += loss.item()\n",
    "    \n",
    "    print(f\"Epoch {epoch+1} - Train Loss: {running_loss / len(train_dl):.4f}\")"
   ]
  },
  {
   "cell_type": "markdown",
   "id": "c2aa9682-620c-4618-bd9b-7146adbaf5b2",
   "metadata": {},
   "source": [
    "## **Loading & Parsing Spotify MPD JSON from S3 to Map Track URIs to Readable Song Names**"
   ]
  },
  {
   "cell_type": "code",
   "execution_count": 20,
   "id": "b1910fde-1a9b-48d4-8b8c-a25bd3928570",
   "metadata": {},
   "outputs": [
    {
     "data": {
      "text/html": [
       "<div>\n",
       "<style scoped>\n",
       "    .dataframe tbody tr th:only-of-type {\n",
       "        vertical-align: middle;\n",
       "    }\n",
       "\n",
       "    .dataframe tbody tr th {\n",
       "        vertical-align: top;\n",
       "    }\n",
       "\n",
       "    .dataframe thead th {\n",
       "        text-align: right;\n",
       "    }\n",
       "</style>\n",
       "<table border=\"1\" class=\"dataframe\">\n",
       "  <thead>\n",
       "    <tr style=\"text-align: right;\">\n",
       "      <th></th>\n",
       "      <th>pos</th>\n",
       "      <th>artist_name</th>\n",
       "      <th>track_uri</th>\n",
       "      <th>artist_uri</th>\n",
       "      <th>track_name</th>\n",
       "      <th>album_uri</th>\n",
       "      <th>duration_ms</th>\n",
       "      <th>album_name</th>\n",
       "      <th>playlist_pid</th>\n",
       "      <th>playlist_name</th>\n",
       "    </tr>\n",
       "  </thead>\n",
       "  <tbody>\n",
       "    <tr>\n",
       "      <th>0</th>\n",
       "      <td>0</td>\n",
       "      <td>Childish Gambino</td>\n",
       "      <td>spotify:track:4r0GVpjSsKSR1biv4fOoa5</td>\n",
       "      <td>spotify:artist:73sIBHcqh3Z3NyqHKZ7FOL</td>\n",
       "      <td>Me and Your Mama</td>\n",
       "      <td>spotify:album:4xnq1L6P551Qcb9gBXNMK7</td>\n",
       "      <td>379226</td>\n",
       "      <td>\"Awaken, My Love!\"</td>\n",
       "      <td>990000</td>\n",
       "      <td>Sam</td>\n",
       "    </tr>\n",
       "    <tr>\n",
       "      <th>1</th>\n",
       "      <td>1</td>\n",
       "      <td>Childish Gambino</td>\n",
       "      <td>spotify:track:3L6S3Px2rdU0HprDo2Famq</td>\n",
       "      <td>spotify:artist:73sIBHcqh3Z3NyqHKZ7FOL</td>\n",
       "      <td>Poke</td>\n",
       "      <td>spotify:album:5GBcqixIFDPEom7AUNbFiM</td>\n",
       "      <td>216093</td>\n",
       "      <td>Kauai</td>\n",
       "      <td>990000</td>\n",
       "      <td>Sam</td>\n",
       "    </tr>\n",
       "    <tr>\n",
       "      <th>2</th>\n",
       "      <td>2</td>\n",
       "      <td>Childish Gambino</td>\n",
       "      <td>spotify:track:7wwifjNAb172PtDpKK3CoR</td>\n",
       "      <td>spotify:artist:73sIBHcqh3Z3NyqHKZ7FOL</td>\n",
       "      <td>V. 3005</td>\n",
       "      <td>spotify:album:63McpWDS7P0dF06fqXQMCZ</td>\n",
       "      <td>234215</td>\n",
       "      <td>because the internet</td>\n",
       "      <td>990000</td>\n",
       "      <td>Sam</td>\n",
       "    </tr>\n",
       "    <tr>\n",
       "      <th>3</th>\n",
       "      <td>3</td>\n",
       "      <td>Childish Gambino</td>\n",
       "      <td>spotify:track:0uMUvbkTdjBNZ5UuHZ5PIj</td>\n",
       "      <td>spotify:artist:73sIBHcqh3Z3NyqHKZ7FOL</td>\n",
       "      <td>IV. sweatpants</td>\n",
       "      <td>spotify:album:63McpWDS7P0dF06fqXQMCZ</td>\n",
       "      <td>180675</td>\n",
       "      <td>because the internet</td>\n",
       "      <td>990000</td>\n",
       "      <td>Sam</td>\n",
       "    </tr>\n",
       "    <tr>\n",
       "      <th>4</th>\n",
       "      <td>4</td>\n",
       "      <td>Childish Gambino</td>\n",
       "      <td>spotify:track:1VWRcdvlTztNh2FHwKujUG</td>\n",
       "      <td>spotify:artist:73sIBHcqh3Z3NyqHKZ7FOL</td>\n",
       "      <td>III. telegraph ave. (\"Oakland\" by Lloyd)</td>\n",
       "      <td>spotify:album:63McpWDS7P0dF06fqXQMCZ</td>\n",
       "      <td>210673</td>\n",
       "      <td>because the internet</td>\n",
       "      <td>990000</td>\n",
       "      <td>Sam</td>\n",
       "    </tr>\n",
       "  </tbody>\n",
       "</table>\n",
       "</div>"
      ],
      "text/plain": [
       "   pos       artist_name                             track_uri  \\\n",
       "0    0  Childish Gambino  spotify:track:4r0GVpjSsKSR1biv4fOoa5   \n",
       "1    1  Childish Gambino  spotify:track:3L6S3Px2rdU0HprDo2Famq   \n",
       "2    2  Childish Gambino  spotify:track:7wwifjNAb172PtDpKK3CoR   \n",
       "3    3  Childish Gambino  spotify:track:0uMUvbkTdjBNZ5UuHZ5PIj   \n",
       "4    4  Childish Gambino  spotify:track:1VWRcdvlTztNh2FHwKujUG   \n",
       "\n",
       "                              artist_uri  \\\n",
       "0  spotify:artist:73sIBHcqh3Z3NyqHKZ7FOL   \n",
       "1  spotify:artist:73sIBHcqh3Z3NyqHKZ7FOL   \n",
       "2  spotify:artist:73sIBHcqh3Z3NyqHKZ7FOL   \n",
       "3  spotify:artist:73sIBHcqh3Z3NyqHKZ7FOL   \n",
       "4  spotify:artist:73sIBHcqh3Z3NyqHKZ7FOL   \n",
       "\n",
       "                                 track_name  \\\n",
       "0                          Me and Your Mama   \n",
       "1                                      Poke   \n",
       "2                                   V. 3005   \n",
       "3                            IV. sweatpants   \n",
       "4  III. telegraph ave. (\"Oakland\" by Lloyd)   \n",
       "\n",
       "                              album_uri  duration_ms            album_name  \\\n",
       "0  spotify:album:4xnq1L6P551Qcb9gBXNMK7       379226    \"Awaken, My Love!\"   \n",
       "1  spotify:album:5GBcqixIFDPEom7AUNbFiM       216093                 Kauai   \n",
       "2  spotify:album:63McpWDS7P0dF06fqXQMCZ       234215  because the internet   \n",
       "3  spotify:album:63McpWDS7P0dF06fqXQMCZ       180675  because the internet   \n",
       "4  spotify:album:63McpWDS7P0dF06fqXQMCZ       210673  because the internet   \n",
       "\n",
       "  playlist_pid playlist_name  \n",
       "0       990000           Sam  \n",
       "1       990000           Sam  \n",
       "2       990000           Sam  \n",
       "3       990000           Sam  \n",
       "4       990000           Sam  "
      ]
     },
     "execution_count": 20,
     "metadata": {},
     "output_type": "execute_result"
    }
   ],
   "source": [
    "import boto3\n",
    "import pandas as pd\n",
    "import io\n",
    "import json\n",
    "\n",
    "s3 = boto3.client('s3')\n",
    "obj = s3.get_object(Bucket='spotify-mpd-pipeline-team4', Key='raw/mpd.slice.990000-990999.json')\n",
    "# Read S3 object\n",
    "raw_data = json.load(io.BytesIO(obj['Body'].read()))\n",
    "\n",
    "# Convert to DataFrame\n",
    "df_playlists = pd.json_normalize(raw_data['playlists'], record_path=['tracks'],\n",
    "                                 meta=['pid', 'name'], \n",
    "                                 meta_prefix='playlist_')\n",
    "\n",
    "df_playlists.head()"
   ]
  },
  {
   "cell_type": "code",
   "execution_count": 28,
   "id": "32b0fac7-7e9f-45dd-b4ad-3ee78a4b928d",
   "metadata": {},
   "outputs": [],
   "source": [
    "# 🎯 Create URI to song name mapping\n",
    "uri_to_name = df_playlists.dropna(subset=['track_uri', 'track_name', 'artist_name']) \\\n",
    "    .drop_duplicates(subset=['track_uri']) \\\n",
    "    .set_index('track_uri') \\\n",
    "    .apply(lambda row: f\"{row['track_name']} by {row['artist_name']}\", axis=1) \\\n",
    "    .to_dict()"
   ]
  },
  {
   "cell_type": "markdown",
   "id": "d4698934-4f97-4a47-9bd8-6c3c8429ee8f",
   "metadata": {},
   "source": [
    "## **Function to Predict the next song in the playlist**"
   ]
  },
  {
   "cell_type": "code",
   "execution_count": 31,
   "id": "e6ef1a20-bc89-4fa6-a9ae-28e4d44d1f2e",
   "metadata": {},
   "outputs": [],
   "source": [
    "def predict_next(model, input_uris, track2id, id2track, max_len=10):\n",
    "    model.eval()\n",
    "    input_ids = [track2id.get(uri, 0) for uri in input_uris][-max_len:]\n",
    "    input_ids += [0] * (max_len - len(input_ids))  # pad\n",
    "    input_tensor = torch.tensor([input_ids]).to(model.embedding.weight.device)\n",
    "\n",
    "    with torch.no_grad():\n",
    "        output = model(input_tensor)\n",
    "        predicted_id = output.argmax(dim=1).item()\n",
    "        return id2track[predicted_id]"
   ]
  },
  {
   "cell_type": "code",
   "execution_count": 32,
   "id": "c04c96b7-d10c-4d52-97e0-eb8ffc34a39c",
   "metadata": {},
   "outputs": [],
   "source": [
    "sample_input = df[df['input'].notnull()]['input'].iloc[0]  # ensure this exists and is a list "
   ]
  },
  {
   "cell_type": "code",
   "execution_count": 33,
   "id": "2d4f7c65-6fb2-4891-9702-59f944a2881c",
   "metadata": {},
   "outputs": [
    {
     "name": "stdout",
     "output_type": "stream",
     "text": [
      "🎧 Predicted Song: Your Love Remains (Instrumental) by The Brilliance\n"
     ]
    }
   ],
   "source": [
    "predicted_uri = predict_next(model, sample_input, track2id, id2track)\n",
    "print(\"🎧 Predicted Song:\", uri_to_name.get(predicted_uri, \"Unknown track\"))"
   ]
  },
  {
   "cell_type": "code",
   "execution_count": 35,
   "id": "7c7a252c-866c-4889-91e3-5ba1ef2952aa",
   "metadata": {},
   "outputs": [
    {
     "data": {
      "text/plain": [
       "['Feel This Moment by Pitbull',\n",
       " 'Sail by AWOLNATION',\n",
       " 'Story of My Life by One Direction',\n",
       " 'Stuck Like Glue by Sugarland',\n",
       " 'Unknown',\n",
       " 'One More Night by Maroon 5',\n",
       " 'A Thousand Miles by Vanessa Carlton',\n",
       " 'Unknown',\n",
       " 'Brave by Sara Bareilles',\n",
       " 'Love Song by Sara Bareilles',\n",
       " 'Unknown',\n",
       " 'Cooler Than Me by Mike Posner',\n",
       " 'Little Talks by Julia Sheer',\n",
       " 'Unknown']"
      ]
     },
     "execution_count": 35,
     "metadata": {},
     "output_type": "execute_result"
    }
   ],
   "source": [
    "# Map URIs to readable names using uri_to_name\n",
    "[uri_to_name.get(uri, \"Unknown\") for uri in sample_input]"
   ]
  },
  {
   "cell_type": "markdown",
   "id": "f93e92c4-ea0e-4265-b318-63618a60f0c1",
   "metadata": {},
   "source": [
    "### Why *Your Love Remains (Instrumental)* by The Brilliance Makes Sense\n",
    "\n",
    "The predicted track reflects a shift toward a calmer, more introspective tone that complements the playlist’s emotional arc. It follows songs like:\n",
    "\n",
    "- **A Thousand Miles** – piano-driven and emotional  \n",
    "- **Brave** and **Love Song** by Sara Bareilles – empowering yet melodic  \n",
    "- **Little Talks** – indie and emotionally expressive  \n",
    "\n",
    "These songs, while pop-oriented, convey vulnerability and emotional depth. An instrumental piece like *Your Love Remains* serves as a gentle and reflective continuation. It adds contrast while maintaining the sentiment of the previous tracks.\n",
    "\n",
    "This makes it a fitting transition track—providing a moment of calm and resolution within the playlist's flow."
   ]
  },
  {
   "cell_type": "code",
   "execution_count": 36,
   "id": "546e88b1-e82a-49dc-926b-69719e48937e",
   "metadata": {},
   "outputs": [
    {
     "name": "stderr",
     "output_type": "stream",
     "text": [
      "Matplotlib is building the font cache; this may take a moment.\n"
     ]
    },
    {
     "data": {
      "image/png": "[encoded data removed]",
      "text/plain": [
       "<Figure size 1200x500 with 1 Axes>"
      ]
     },
     "metadata": {},
     "output_type": "display_data"
    }
   ],
   "source": [
    "import matplotlib.pyplot as plt\n",
    "\n",
    "# Define moods for tracks (simplified for illustration)\n",
    "tracks = [\n",
    "    \"Feel This Moment\", \"Sail\", \"Story of My Life\", \"Stuck Like Glue\", \n",
    "    \"Unknown\", \"One More Night\", \"A Thousand Miles\", \"Unknown\", \n",
    "    \"Brave\", \"Love Song\", \"Unknown\", \"Cooler Than Me\", \n",
    "    \"Little Talks\", \"Your Love Remains (Instrumental)\"\n",
    "]\n",
    "moods = [\n",
    "    7, 5, 6, 6, \n",
    "    0, 6, 8, 0, \n",
    "    7, 7, 0, 6, \n",
    "    7, 9  # Higher value = more reflective/calm\n",
    "]\n",
    "\n",
    "# Plot mood transitions\n",
    "plt.figure(figsize=(12, 5))\n",
    "plt.plot(tracks, moods, marker='o')\n",
    "plt.xticks(rotation=45, ha='right')\n",
    "plt.title('Playlist Mood Flow')\n",
    "plt.ylabel('Mood Score (Higher = Calm/Reflective)')\n",
    "plt.grid(True)\n",
    "plt.tight_layout()\n",
    "plt.show()"
   ]
  }
 ],
 "metadata": {
  "kernelspec": {
   "display_name": "conda_python3",
   "language": "python",
   "name": "conda_python3"
  },
  "language_info": {
   "codemirror_mode": {
    "name": "ipython",
    "version": 3
   },
   "file_extension": ".py",
   "mimetype": "text/x-python",
   "name": "python",
   "nbconvert_exporter": "python",
   "pygments_lexer": "ipython3",
   "version": "3.10.17"
  }
 },
 "nbformat": 4,
 "nbformat_minor": 5
}
